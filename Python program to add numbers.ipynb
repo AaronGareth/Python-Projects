{
 "cells": [
  {
   "cell_type": "markdown",
   "id": "0e0f1c17",
   "metadata": {},
   "source": [
    "# Python Program to Add Two Numbers"
   ]
  },
  {
   "cell_type": "markdown",
   "id": "0c05bffb",
   "metadata": {},
   "source": [
    "# Add Two Numbers"
   ]
  },
  {
   "cell_type": "code",
   "execution_count": 4,
   "id": "8c412d87",
   "metadata": {},
   "outputs": [
    {
     "name": "stdout",
     "output_type": "stream",
     "text": [
      "The sum of a and b is 30\n"
     ]
    }
   ],
   "source": [
    "a = 10\n",
    "b = 20\n",
    "\n",
    "#Adds the two numbers\n",
    "sum = a + b\n",
    "\n",
    "#Prints the results\n",
    "print(\"The sum of a and b is\", sum)"
   ]
  },
  {
   "cell_type": "markdown",
   "id": "af11fc57",
   "metadata": {},
   "source": [
    "# Add Two Numbers With User Input"
   ]
  },
  {
   "cell_type": "code",
   "execution_count": 8,
   "id": "92879a62",
   "metadata": {},
   "outputs": [
    {
     "name": "stdout",
     "output_type": "stream",
     "text": [
      "Enter first number: 10\n",
      "Enter second number: 10\n",
      "The result is  20.0\n"
     ]
    }
   ],
   "source": [
    "#Store input numbers\n",
    "num1 = input('Enter first number: ' )\n",
    "num2 = input('Enter second number: ')\n",
    "\n",
    "#Adds the two numbers\n",
    "sum = float(num1) + float(num2)\n",
    "\n",
    "#Prints the results\n",
    "print(\"The result is \", sum)"
   ]
  },
  {
   "cell_type": "code",
   "execution_count": null,
   "id": "e3eef968",
   "metadata": {},
   "outputs": [],
   "source": []
  },
  {
   "cell_type": "code",
   "execution_count": null,
   "id": "40a49ce8",
   "metadata": {},
   "outputs": [],
   "source": []
  }
 ],
 "metadata": {
  "kernelspec": {
   "display_name": "Python 3 (ipykernel)",
   "language": "python",
   "name": "python3"
  },
  "language_info": {
   "codemirror_mode": {
    "name": "ipython",
    "version": 3
   },
   "file_extension": ".py",
   "mimetype": "text/x-python",
   "name": "python",
   "nbconvert_exporter": "python",
   "pygments_lexer": "ipython3",
   "version": "3.9.13"
  }
 },
 "nbformat": 4,
 "nbformat_minor": 5
}
