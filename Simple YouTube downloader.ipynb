{
 "cells": [
  {
   "cell_type": "markdown",
   "id": "faaa32bd",
   "metadata": {},
   "source": [
    "# Simple Youtube downloader"
   ]
  },
  {
   "cell_type": "code",
   "execution_count": 10,
   "id": "0395fc14",
   "metadata": {},
   "outputs": [],
   "source": [
    "# First install pytube"
   ]
  },
  {
   "cell_type": "code",
   "execution_count": 3,
   "id": "5adac395",
   "metadata": {},
   "outputs": [
    {
     "name": "stdout",
     "output_type": "stream",
     "text": [
      "Collecting pytube\n",
      "  Downloading pytube-12.1.2-py3-none-any.whl (57 kB)\n",
      "     -------------------------------------- 57.0/57.0 kB 995.4 kB/s eta 0:00:00\n",
      "Installing collected packages: pytube\n",
      "Successfully installed pytube-12.1.2\n"
     ]
    }
   ],
   "source": [
    "!pip install pytube"
   ]
  },
  {
   "cell_type": "code",
   "execution_count": 11,
   "id": "ba92cda3",
   "metadata": {},
   "outputs": [],
   "source": [
    "#import libraries"
   ]
  },
  {
   "cell_type": "code",
   "execution_count": 6,
   "id": "aeed25da",
   "metadata": {},
   "outputs": [],
   "source": [
    "from pytube import YouTube"
   ]
  },
  {
   "cell_type": "code",
   "execution_count": 9,
   "id": "0077bc4a",
   "metadata": {},
   "outputs": [
    {
     "name": "stdout",
     "output_type": "stream",
     "text": [
      "enter url https://www.youtube.com/watch?v=gwp3dJUsy5g&t=787s\n"
     ]
    },
    {
     "data": {
      "text/plain": [
       "'C:\\\\Users\\\\theoc\\\\Desktop\\\\Python Course\\\\SQL for Data Analysts and Data Scientists IN 1 HOUR.mp4'"
      ]
     },
     "execution_count": 9,
     "metadata": {},
     "output_type": "execute_result"
    }
   ],
   "source": [
    "link=input(\"enter url \")\n",
    "video=YouTube(link)\n",
    "stream=video.streams.get_highest_resolution()\n",
    "stream.download()"
   ]
  },
  {
   "cell_type": "code",
   "execution_count": null,
   "id": "7eadd84d",
   "metadata": {},
   "outputs": [],
   "source": []
  }
 ],
 "metadata": {
  "kernelspec": {
   "display_name": "Python 3 (ipykernel)",
   "language": "python",
   "name": "python3"
  },
  "language_info": {
   "codemirror_mode": {
    "name": "ipython",
    "version": 3
   },
   "file_extension": ".py",
   "mimetype": "text/x-python",
   "name": "python",
   "nbconvert_exporter": "python",
   "pygments_lexer": "ipython3",
   "version": "3.9.13"
  }
 },
 "nbformat": 4,
 "nbformat_minor": 5
}
