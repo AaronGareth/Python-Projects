{
 "cells": [
  {
   "cell_type": "markdown",
   "id": "36b3219b",
   "metadata": {},
   "source": [
    "# Youtube Downloader"
   ]
  },
  {
   "cell_type": "code",
   "execution_count": 1,
   "id": "fc559bb9",
   "metadata": {},
   "outputs": [],
   "source": [
    "# First install pytube"
   ]
  },
  {
   "cell_type": "code",
   "execution_count": 2,
   "id": "32a0cc47",
   "metadata": {},
   "outputs": [
    {
     "name": "stdout",
     "output_type": "stream",
     "text": [
      "Requirement already satisfied: pytube in c:\\users\\theoc\\anaconda3\\lib\\site-packages (12.1.2)\n"
     ]
    }
   ],
   "source": [
    "!pip install pytube"
   ]
  },
  {
   "cell_type": "code",
   "execution_count": null,
   "id": "796be767",
   "metadata": {},
   "outputs": [],
   "source": [
    "#import libraries"
   ]
  },
  {
   "cell_type": "code",
   "execution_count": 3,
   "id": "dcbaca50",
   "metadata": {},
   "outputs": [],
   "source": [
    "from pytube import YouTube"
   ]
  },
  {
   "cell_type": "code",
   "execution_count": 4,
   "id": "6bec3b8d",
   "metadata": {},
   "outputs": [],
   "source": [
    "def download(link):\n",
    "    yt = YouTube(link)\n",
    "    yt = yt.streams.get_highest_resolution()\n",
    "    try:\n",
    "        yt.download()\n",
    "    except:\n",
    "        print(\"There has been an error downloadig your youtube video\")\n",
    "    print('Downlaod was Succeful')    "
   ]
  },
  {
   "cell_type": "code",
   "execution_count": 7,
   "id": "16410c9b",
   "metadata": {},
   "outputs": [
    {
     "name": "stdout",
     "output_type": "stream",
     "text": [
      "Enter url https://www.youtube.com/watch?v=EMlM6QTzJo0&t=401s\n",
      "Downlaod was Succefully\n"
     ]
    }
   ],
   "source": [
    "link = input(\"Enter url \")\n",
    "download(link)"
   ]
  },
  {
   "cell_type": "code",
   "execution_count": null,
   "id": "66aac42a",
   "metadata": {},
   "outputs": [],
   "source": []
  },
  {
   "cell_type": "code",
   "execution_count": null,
   "id": "afbcd6a4",
   "metadata": {},
   "outputs": [],
   "source": []
  },
  {
   "cell_type": "code",
   "execution_count": null,
   "id": "e0fb21d4",
   "metadata": {},
   "outputs": [],
   "source": []
  }
 ],
 "metadata": {
  "kernelspec": {
   "display_name": "Python 3 (ipykernel)",
   "language": "python",
   "name": "python3"
  },
  "language_info": {
   "codemirror_mode": {
    "name": "ipython",
    "version": 3
   },
   "file_extension": ".py",
   "mimetype": "text/x-python",
   "name": "python",
   "nbconvert_exporter": "python",
   "pygments_lexer": "ipython3",
   "version": "3.9.13"
  }
 },
 "nbformat": 4,
 "nbformat_minor": 5
}
